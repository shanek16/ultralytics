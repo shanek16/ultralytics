{
 "cells": [
  {
   "cell_type": "code",
   "execution_count": 23,
   "metadata": {},
   "outputs": [],
   "source": [
    "import numpy as np\n",
    "\n",
    "arr = np.full(100, None, dtype=object)"
   ]
  },
  {
   "cell_type": "code",
   "execution_count": 24,
   "metadata": {},
   "outputs": [
    {
     "name": "stdout",
     "output_type": "stream",
     "text": [
      "[None None None None None None None None None None None None None None\n",
      " None None None None None None None None None None None None None None\n",
      " None None None None None None None None None None None None None None\n",
      " None None None None None None None None None None None None None None\n",
      " None None None None None None None None None None None None None None\n",
      " None None None None None None None None None None None None None None\n",
      " None None None None None None None None None None None None None None\n",
      " None None]\n"
     ]
    }
   ],
   "source": [
    "print(arr)"
   ]
  },
  {
   "cell_type": "code",
   "execution_count": 25,
   "metadata": {},
   "outputs": [
    {
     "name": "stdout",
     "output_type": "stream",
     "text": [
      "[array([1, 2]) None array([3, 4]) None array([3, 6]) None None None None\n",
      " None None None None None None None None None None None None None None\n",
      " None None None None None None None None None None None None None None\n",
      " None None None None None None None None None None None None None None\n",
      " None None None None None None None None None None None None None None\n",
      " None None None None None None None None None None None None None None\n",
      " None None None None None None None None None None None None None None\n",
      " None None None None None None None]\n"
     ]
    }
   ],
   "source": [
    "# Create an example array\n",
    "arr = np.full(100, None, dtype=object)\n",
    "arr[0] = np.array([1,2])\n",
    "arr[2] = np.array([3,4])\n",
    "arr[4] = np.array([3,6])\n",
    "print(arr)"
   ]
  },
  {
   "cell_type": "code",
   "execution_count": 28,
   "metadata": {},
   "outputs": [
    {
     "name": "stdout",
     "output_type": "stream",
     "text": [
      "[array([1, 2]) array([3, 4]) array([3, 6])]\n",
      "<class 'numpy.ndarray'>\n",
      "(3,)\n",
      "3\n"
     ]
    }
   ],
   "source": [
    "# Create a boolean mask to identify the [x,y] elements\n",
    "mask = [type(a) == np.ndarray and len(a) == 2 for a in arr]\n",
    "\n",
    "# Use the mask to index into the original array and select only the [x,y] elements\n",
    "new_arr = arr[mask]\n",
    "\n",
    "print(new_arr)\n",
    "print(type(new_arr))\n",
    "print(len(new_arr))"
   ]
  },
  {
   "cell_type": "code",
   "execution_count": 27,
   "metadata": {},
   "outputs": [
    {
     "name": "stdout",
     "output_type": "stream",
     "text": [
      "[array([2, 2]) array([0, 2])]\n",
      "<class 'numpy.ndarray'>\n"
     ]
    }
   ],
   "source": [
    "# Create the input array\n",
    "# new_array = np.array([[1, 2], [3, 4], [7, 6], [10, 8]])\n",
    "\n",
    "# Compute the differences between successive elements\n",
    "v_buffer = np.diff(new_arr, axis=0)\n",
    "\n",
    "# Create the output array\n",
    "# mv = np.concatenate([diffs, np.zeros((1, 2))], axis=0)\n",
    "\n",
    "print(v_buffer)\n",
    "print(type(v_buffer))\n"
   ]
  },
  {
   "cell_type": "code",
   "execution_count": 7,
   "metadata": {},
   "outputs": [
    {
     "name": "stdout",
     "output_type": "stream",
     "text": [
      "[1 2]\n"
     ]
    }
   ],
   "source": [
    "mv = np.mean(v_buffer)\n",
    "print(mv)"
   ]
  },
  {
   "cell_type": "code",
   "execution_count": 8,
   "metadata": {},
   "outputs": [],
   "source": [
    "pos_buffer = np.full((5, 100), None, dtype=object)\n",
    "pos_buffer[0][0] = np.array([1, 2])\n",
    "pos_buffer[0][2] = np.array([3, 4])\n",
    "pos_buffer[0][4] = np.array([3, 6])"
   ]
  },
  {
   "cell_type": "code",
   "execution_count": 14,
   "metadata": {},
   "outputs": [
    {
     "data": {
      "text/plain": [
       "100"
      ]
     },
     "execution_count": 14,
     "metadata": {},
     "output_type": "execute_result"
    }
   ],
   "source": [
    "np.shape(pos_buffer)[1]"
   ]
  },
  {
   "cell_type": "code",
   "execution_count": 15,
   "metadata": {},
   "outputs": [
    {
     "data": {
      "text/plain": [
       "array([array([1, 2]), None, None, None, None], dtype=object)"
      ]
     },
     "execution_count": 15,
     "metadata": {},
     "output_type": "execute_result"
    }
   ],
   "source": [
    "pos_buffer[:,0]"
   ]
  },
  {
   "cell_type": "code",
   "execution_count": 17,
   "metadata": {},
   "outputs": [
    {
     "name": "stdout",
     "output_type": "stream",
     "text": [
      "[[0.05655898 0.66110923 0.53883742 0.42469616 0.25656325 0.07825816\n",
      "  0.89692967 0.69901193 0.16941079 0.91833432]\n",
      " [0.25558135 0.32114155 0.96829534 0.73021911 0.67687353 0.53225805\n",
      "  0.09601855 0.22202006 0.67151043 0.88179354]\n",
      " [0.39084053 0.27822786 0.13440664 0.19976504 0.39761031 0.64218873\n",
      "  0.96894998 0.9911534  0.06286528 0.79199983]\n",
      " [0.93173851 0.34343351 0.46448521 0.47998788 0.87472029 0.66454135\n",
      "  0.56518916 0.69045461 0.30209215 0.85283931]\n",
      " [0.78838916 0.53898133 0.36279679 0.73983845 0.80121941 0.03008426\n",
      "  0.62330807 0.97933221 0.02449134 0.98709748]]\n"
     ]
    }
   ],
   "source": [
    "import numpy as np\n",
    "\n",
    "# Create the input array\n",
    "arr = np.random.rand(5, 10)\n",
    "print(arr)"
   ]
  },
  {
   "cell_type": "code",
   "execution_count": 18,
   "metadata": {},
   "outputs": [
    {
     "name": "stdout",
     "output_type": "stream",
     "text": [
      "[[0.25558135 0.32114155 0.96829534 0.73021911 0.67687353 0.53225805\n",
      "  0.09601855 0.22202006 0.67151043 0.88179354]\n",
      " [0.39084053 0.27822786 0.13440664 0.19976504 0.39761031 0.64218873\n",
      "  0.96894998 0.9911534  0.06286528 0.79199983]\n",
      " [0.93173851 0.34343351 0.46448521 0.47998788 0.87472029 0.66454135\n",
      "  0.56518916 0.69045461 0.30209215 0.85283931]\n",
      " [0.78838916 0.53898133 0.36279679 0.73983845 0.80121941 0.03008426\n",
      "  0.62330807 0.97933221 0.02449134 0.98709748]\n",
      " [       nan        nan        nan        nan        nan        nan\n",
      "         nan        nan        nan        nan]]\n"
     ]
    }
   ],
   "source": [
    "# Shift the rows up by one\n",
    "arr[:-1, :] = arr[1:, :]\n",
    "arr[-1, :] = None\n",
    "\n",
    "print(arr)\n"
   ]
  },
  {
   "cell_type": "code",
   "execution_count": null,
   "metadata": {},
   "outputs": [],
   "source": []
  }
 ],
 "metadata": {
  "kernelspec": {
   "display_name": "track",
   "language": "python",
   "name": "python3"
  },
  "language_info": {
   "codemirror_mode": {
    "name": "ipython",
    "version": 3
   },
   "file_extension": ".py",
   "mimetype": "text/x-python",
   "name": "python",
   "nbconvert_exporter": "python",
   "pygments_lexer": "ipython3",
   "version": "3.8.16"
  },
  "orig_nbformat": 4
 },
 "nbformat": 4,
 "nbformat_minor": 2
}
