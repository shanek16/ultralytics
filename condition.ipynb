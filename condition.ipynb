{
 "cells": [
  {
   "cell_type": "code",
   "execution_count": 25,
   "metadata": {},
   "outputs": [
    {
     "name": "stdout",
     "output_type": "stream",
     "text": [
      "Array A:\n",
      " [[3 3 3 2 3 1 2 1 2 3]\n",
      " [0 array([[0.90431758, 0.70099336]]) array([[0.62923146, 0.95118296]]) 0\n",
      "  0 array([[0.32030244, 0.63761496]]) array([[0.01838428, 0.44548588]])\n",
      "  array([[0.07017718, 0.21690105]]) array([[0.45987113, 0.48830663]])\n",
      "  array([[0.08717271, 0.62287743]])]\n",
      " [array([[0.58146544, 0.55900254]]) array([[0.30739277, 0.83514573]])\n",
      "  array([[0.66141378, 0.84571127]]) array([[0.18271309, 0.26741878]])\n",
      "  array([[0.58002812, 0.70974526]]) array([[0.61629364, 0.09383648]])\n",
      "  array([[0.12328802, 0.63471766]]) array([[0.46882101, 0.22047695]])\n",
      "  array([[0.74048907, 0.64843968]]) array([[0.40493506, 0.33191187]])]\n",
      " [0 array([[0.92689327, 0.10571232]]) array([[0.93769685, 0.83911358]]) 0\n",
      "  0 array([[0.82408464, 0.06952347]]) array([[0.37776766, 0.50043352]])\n",
      "  array([[0.50759056, 0.51614389]]) array([[0.1459957, 0.399875 ]])\n",
      "  array([[0.39933139, 0.77526501]])]]\n"
     ]
    }
   ],
   "source": [
    "import numpy as np\n",
    "\n",
    "# Define the size of the array\n",
    "n_rows = 4\n",
    "n_cols = 10\n",
    "\n",
    "def L2(p1,p2):\n",
    "    if isinstance(p1, np.ndarray) and isinstance(p2, np.ndarray):\n",
    "        p1x,p1y = p1.flatten()\n",
    "        p2x,p2y = p2.flatten()\n",
    "        return np.sqrt((p2x-p1x)**2 + (p2y-p1y)**2)\n",
    "    else: # either point is 0\n",
    "        return 100\n",
    "\n",
    "# Define the scalar and vector values for the rows\n",
    "A = np.zeros((4,10), dtype=object)\n",
    "A[0] = np.random.randint(low=1, high=4, size=(1, n_cols))\n",
    "for i in range(10):\n",
    "    A[1][i] = np.random.rand(1, 2)\n",
    "    A[2][i] = np.random.rand(1, 2)\n",
    "    A[3][i] = np.random.rand(1, 2) # Each row in the 4th row has a vector of length 2\n",
    "for j in [0,3,4]:\n",
    "    A[1][j] = 0\n",
    "    A[3][j] = 0\n",
    "print(\"Array A:\\n\", A)"
   ]
  },
  {
   "cell_type": "code",
   "execution_count": 30,
   "metadata": {},
   "outputs": [
    {
     "name": "stdout",
     "output_type": "stream",
     "text": [
      "1 5\n",
      "6 7\n",
      "6 8\n",
      "6 9\n",
      "7 8\n",
      "7 9\n",
      "8 9\n"
     ]
    }
   ],
   "source": [
    "epsilon =0.5\n",
    "for i in range(A.shape[1]):\n",
    "    for j in range(i + 1, A.shape[1]):\n",
    "        if L2(A[3, i], A[3, j]) < epsilon:\n",
    "            print(i,j)\n"
   ]
  },
  {
   "cell_type": "code",
   "execution_count": 27,
   "metadata": {},
   "outputs": [
    {
     "name": "stdout",
     "output_type": "stream",
     "text": [
      "Valid columns: []\n"
     ]
    }
   ],
   "source": [
    "# Define the threshold epsilon\n",
    "epsilon = 10\n",
    "\n",
    "# Find columns that satisfy the conditions\n",
    "valid_cols = np.where(\n",
    "    ((A[0] == 1) | (A[0] == 2))\n",
    "    & np.array([isinstance(element, np.ndarray) for element in A[1]])\n",
    "    & np.array([isinstance(element, np.ndarray) for element in A[2]])\n",
    "    & ~np.any([\n",
    "        L2(A[3, i], A[3, j]) < epsilon\n",
    "        for i in range(A.shape[1])\n",
    "        for j in range(i + 1, A.shape[1])\n",
    "    ])\n",
    "    )[0]\n",
    "\n",
    "print(\"Valid columns:\", valid_cols)"
   ]
  },
  {
   "cell_type": "code",
   "execution_count": null,
   "metadata": {},
   "outputs": [],
   "source": [
    "# Define the threshold epsilon\n",
    "epsilon = 10\n",
    "\n",
    "# Find columns that satisfy the conditions\n",
    "valid_cols = np.where(\n",
    "    ((A[0] == 1) | (A[0] == 2))\n",
    "    & np.array([isinstance(element, np.ndarray) for element in A[1]])\n",
    "    & np.array([isinstance(element, np.ndarray) for element in A[2]])\n",
    "    )[0]\n",
    "\n",
    "print(\"Valid columns:\", valid_cols)"
   ]
  },
  {
   "cell_type": "code",
   "execution_count": null,
   "metadata": {},
   "outputs": [],
   "source": []
  },
  {
   "cell_type": "code",
   "execution_count": 21,
   "metadata": {},
   "outputs": [
    {
     "name": "stdout",
     "output_type": "stream",
     "text": [
      "0\n"
     ]
    }
   ],
   "source": [
    "set_indx = set()\n",
    "for i in valid_cols:\n",
    "    for j in valid_cols:\n",
    "        set_indx.add((i,j))\n",
    "print(len(set_indx))"
   ]
  },
  {
   "cell_type": "code",
   "execution_count": 22,
   "metadata": {},
   "outputs": [],
   "source": [
    "# Iterate over valid columns and check L2 norm for corresponding elements in A[3]\n",
    "for idx in valid_cols:\n",
    "    if isinstance(A[3][idx], np.ndarray) and L2([0, 0], A[3][idx]) < epsilon:\n",
    "        print(f\"A[3][{idx}] passes the condition\")\n",
    "    else:\n",
    "        print(f\"A[3][{idx}] fails the condition\")"
   ]
  },
  {
   "cell_type": "code",
   "execution_count": null,
   "metadata": {},
   "outputs": [],
   "source": []
  }
 ],
 "metadata": {
  "kernelspec": {
   "display_name": "track",
   "language": "python",
   "name": "python3"
  },
  "language_info": {
   "codemirror_mode": {
    "name": "ipython",
    "version": 3
   },
   "file_extension": ".py",
   "mimetype": "text/x-python",
   "name": "python",
   "nbconvert_exporter": "python",
   "pygments_lexer": "ipython3",
   "version": "3.8.16"
  },
  "orig_nbformat": 4
 },
 "nbformat": 4,
 "nbformat_minor": 2
}
